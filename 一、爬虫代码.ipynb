{
 "cells": [
  {
   "cell_type": "markdown",
   "metadata": {},
   "source": [
    "## 1.爬取大学所属地区链接(国内大学)"
   ]
  },
  {
   "cell_type": "code",
   "execution_count": 32,
   "metadata": {},
   "outputs": [],
   "source": [
    "import requests\n",
    "from lxml import etree\n",
    "import re\n",
    "import json\n",
    "import pandas as pd\n",
    "url=\"https://daxue.911cha.com/\"\n",
    "headers={\n",
    "    \"user-agent\": \"Mozilla/5.0 (Windows NT 10.0; Win64; x64) AppleWebKit/537.36 (KHTML, like Gecko) Chrome/92.0.4515.107 Safari/537.36\",\n",
    "    \"cookie\":\"Hm_lvt_2e69b379c7dbfdda15f852ee2e7139dc=1686271732,1686818515; Hm_lpvt_2e69b379c7dbfdda15f852ee2e7139dc=1686819239; t=e90d7bb8d83fde443ef9aa2347096872; r=7492\"\n",
    "}\n",
    "response=requests.get(url,headers=headers)\n",
    "\n",
    "国内大学链接 =re.findall(r'<a href=\"\\./s(.*?)\">.*?</a>', response.text)\n",
    "国内大学地区 =re.findall(r'<a href=\"\\./s.*?\">(.*?)</a>', response.text)\n",
    "\n",
    "fo ={'地区链接':国内大学链接,'地区':国内大学地区} \n",
    "fd = pd.DataFrame(fo)\n",
    "fd['地区链接']=fd['地区链接'].map(lambda x:'https://daxue.911cha.com/s'+x)\n",
    "fd.to_csv('国内地区链接.csv',header = True,index=0)   "
   ]
  },
  {
   "cell_type": "markdown",
   "metadata": {},
   "source": [
    "## 2.根据大学所属地区链接爬取大学详情页链接（1973条数据）"
   ]
  },
  {
   "cell_type": "code",
   "execution_count": 61,
   "metadata": {},
   "outputs": [],
   "source": [
    "data1=pd.read_csv('国内地区链接.csv')\n",
    "url1=data1['地区链接'].tolist()"
   ]
  },
  {
   "cell_type": "code",
   "execution_count": 63,
   "metadata": {},
   "outputs": [],
   "source": [
    "国内大学名称=[]\n",
    "国内大学详情页链接=[]\n",
    "for url in url1:\n",
    "    response=requests.get(url,headers=headers)\n",
    "    大学名称 =re.findall(r'<li><a href=\"\\./.*?\">(.*?)</a></li>', response.text)\n",
    "    大学详情页链接 =re.findall(r'<li><a href=\"\\.(/.*?)\">.*?</a></li>', response.text)\n",
    "    国内大学名称+=大学名称\n",
    "    国内大学详情页链接+=大学详情页链接"
   ]
  },
  {
   "cell_type": "code",
   "execution_count": 71,
   "metadata": {},
   "outputs": [],
   "source": [
    "fo ={'大学名称':国内大学名称,'大学详情页链接':国内大学详情页链接} \n",
    "fd = pd.DataFrame(fo)\n",
    "fd['大学详情页链接']=fd['大学详情页链接'].map(lambda x:'https://daxue.911cha.com'+x)\n",
    "fd.to_csv('国内大学详情页链接.csv',header = True,index=0)   "
   ]
  },
  {
   "cell_type": "code",
   "execution_count": 73,
   "metadata": {},
   "outputs": [
    {
     "data": {
      "text/html": [
       "<div>\n",
       "<style scoped>\n",
       "    .dataframe tbody tr th:only-of-type {\n",
       "        vertical-align: middle;\n",
       "    }\n",
       "\n",
       "    .dataframe tbody tr th {\n",
       "        vertical-align: top;\n",
       "    }\n",
       "\n",
       "    .dataframe thead th {\n",
       "        text-align: right;\n",
       "    }\n",
       "</style>\n",
       "<table border=\"1\" class=\"dataframe\">\n",
       "  <thead>\n",
       "    <tr style=\"text-align: right;\">\n",
       "      <th></th>\n",
       "      <th>大学名称</th>\n",
       "      <th>大学详情页链接</th>\n",
       "    </tr>\n",
       "  </thead>\n",
       "  <tbody>\n",
       "    <tr>\n",
       "      <th>0</th>\n",
       "      <td>北京大学</td>\n",
       "      <td>https://daxue.911cha.com/1.html</td>\n",
       "    </tr>\n",
       "    <tr>\n",
       "      <th>1</th>\n",
       "      <td>清华大学</td>\n",
       "      <td>https://daxue.911cha.com/2.html</td>\n",
       "    </tr>\n",
       "    <tr>\n",
       "      <th>2</th>\n",
       "      <td>中国人民大学</td>\n",
       "      <td>https://daxue.911cha.com/3.html</td>\n",
       "    </tr>\n",
       "    <tr>\n",
       "      <th>3</th>\n",
       "      <td>北京师范大学</td>\n",
       "      <td>https://daxue.911cha.com/24.html</td>\n",
       "    </tr>\n",
       "    <tr>\n",
       "      <th>4</th>\n",
       "      <td>北京航空航天大学</td>\n",
       "      <td>https://daxue.911cha.com/6.html</td>\n",
       "    </tr>\n",
       "    <tr>\n",
       "      <th>...</th>\n",
       "      <td>...</td>\n",
       "      <td>...</td>\n",
       "    </tr>\n",
       "    <tr>\n",
       "      <th>1968</th>\n",
       "      <td>香港大学</td>\n",
       "      <td>https://daxue.911cha.com/1945.html</td>\n",
       "    </tr>\n",
       "    <tr>\n",
       "      <th>1969</th>\n",
       "      <td>香港中文大学</td>\n",
       "      <td>https://daxue.911cha.com/1946.html</td>\n",
       "    </tr>\n",
       "    <tr>\n",
       "      <th>1970</th>\n",
       "      <td>香港理工大学</td>\n",
       "      <td>https://daxue.911cha.com/1947.html</td>\n",
       "    </tr>\n",
       "    <tr>\n",
       "      <th>1971</th>\n",
       "      <td>香港科技大学</td>\n",
       "      <td>https://daxue.911cha.com/1948.html</td>\n",
       "    </tr>\n",
       "    <tr>\n",
       "      <th>1972</th>\n",
       "      <td>香港城市大学</td>\n",
       "      <td>https://daxue.911cha.com/1949.html</td>\n",
       "    </tr>\n",
       "  </tbody>\n",
       "</table>\n",
       "<p>1973 rows × 2 columns</p>\n",
       "</div>"
      ],
      "text/plain": [
       "          大学名称                             大学详情页链接\n",
       "0         北京大学     https://daxue.911cha.com/1.html\n",
       "1         清华大学     https://daxue.911cha.com/2.html\n",
       "2       中国人民大学     https://daxue.911cha.com/3.html\n",
       "3       北京师范大学    https://daxue.911cha.com/24.html\n",
       "4     北京航空航天大学     https://daxue.911cha.com/6.html\n",
       "...        ...                                 ...\n",
       "1968      香港大学  https://daxue.911cha.com/1945.html\n",
       "1969    香港中文大学  https://daxue.911cha.com/1946.html\n",
       "1970    香港理工大学  https://daxue.911cha.com/1947.html\n",
       "1971    香港科技大学  https://daxue.911cha.com/1948.html\n",
       "1972    香港城市大学  https://daxue.911cha.com/1949.html\n",
       "\n",
       "[1973 rows x 2 columns]"
      ]
     },
     "execution_count": 73,
     "metadata": {},
     "output_type": "execute_result"
    }
   ],
   "source": [
    "fd"
   ]
  },
  {
   "cell_type": "markdown",
   "metadata": {},
   "source": [
    "国内共有1973所大学"
   ]
  },
  {
   "cell_type": "markdown",
   "metadata": {},
   "source": [
    "## 3.根据链接爬取大学详情页信息"
   ]
  },
  {
   "cell_type": "code",
   "execution_count": 1,
   "metadata": {},
   "outputs": [],
   "source": [
    "import requests\n",
    "from lxml import etree\n",
    "import re\n",
    "import json\n",
    "import pandas as pd\n",
    "import time\n",
    "data=pd.read_csv('国内大学详情页链接.csv')\n",
    "data['大学详情页链接']=data['大学详情页链接'].map(lambda x:x.replace('\" class=\"inlink',\"\"))\n",
    "urls=data['大学详情页链接'].tolist()"
   ]
  },
  {
   "cell_type": "code",
   "execution_count": 26,
   "metadata": {},
   "outputs": [
    {
     "name": "stdout",
     "output_type": "stream",
     "text": [
      "已完成\n"
     ]
    }
   ],
   "source": [
    "from selenium.webdriver import Chrome\n",
    "from selenium.webdriver.chrome.options import Options\n",
    "\n",
    "option=Options()\n",
    "option.add_argument('--disable-blink-features=AutomationControlled')\n",
    "option.add_argument(\"--log-level=3\")\n",
    "option.add_argument(\"--use-fake-ui-for-media-stream\")\n",
    "driver = Chrome(options=option)\n",
    "\n",
    "f = open('国内大学.csv', 'a', encoding='utf8')\n",
    "f.write('{},{},{},{},{},{},{},{},{},{},{},{},{},{},{},{}\\n'.format(\"院校名称\",'院校类型','是否是211', '是否是985', \n",
    "                                                                '是否有研究生院','院校隶属','所在地区',\n",
    "                                                                '学校网址','特殊招生','学校排名',\n",
    "                                                               '科学研究','星级','总分','人才培养',\n",
    "                                                                '综合声誉','办学层次'))\n",
    "for i in range(len(urls):\n",
    "    try:\n",
    "        driver.get(urls[i])\n",
    "        time.sleep(2)\n",
    "        text = driver.page_source\n",
    "        院校名称=data['大学名称'].tolist()[i]\n",
    "        院校类型 =\"\".join(re.findall(r'院校类型：</span>\\s*(.*?)\\s*<', text))\n",
    "        是否是211=\"\".join(re.findall(r'title=\"211工程\">\\s*(\\d+)\\s*<', text))\n",
    "        是否是985=\"\".join(re.findall(r'title=\"985工程\">\\s*(\\d+)\\s*<', text))\n",
    "        是否有研究生院=\"\".join(re.findall(r'title=\"有研究生院\">\\s*(.*?)\\s*<',text))\n",
    "        院校隶属=\"\".join(re.findall(r'院校隶属：</span>(.*?)<',  text))\n",
    "        \n",
    "        所在地区=\"\".join(re.findall(r'所在地区：</span>(.*?)<', text))\n",
    "        if 所在地区==\"\":\n",
    "            所在地区=\"\".join(re.findall(r'所在地区：</span><a href=\"\\./.*?\">(.*?)<', text))\n",
    "            \n",
    "        学校网址=\"\".join(re.findall(r'学校网址：</span><a href=\"(.*?)\"',  text))\n",
    "        特殊招生=re.findall(r'特殊招生：</span>(.*?)<',text)\n",
    "        学校排名=\"\".join(re.findall(r'学校排名：</span>第(\\d+)名',text))\n",
    "        科学研究=\"\".join(re.findall(r'科学研究：</span>(.*?)分',  text))\n",
    "        星级=\"\".join(re.findall(r'星级：</span><span class=\"red f18\">(.*?)<',text)).count(\"★\")\n",
    "        总分=\"\".join(re.findall(r'总分：</span>(.*?)分<br',  text))\n",
    "        人才培养=\"\".join(re.findall(r'人才培养：</span>(.*?)分<',  text))\n",
    "        综合声誉=\"\".join(re.findall(r'综合声誉：</span>(.*?)分<',  text))\n",
    "        办学层次=\"\".join(re.findall(r'办学层次：</span>(.*?)<',  text))\n",
    "        f.write('{},{},{},{},{},{},{},{},{},{},{},{},{},{},{},{}\\n'.format(院校名称,院校类型,是否是211, 是否是985, \n",
    "                                                                        是否有研究生院,院校隶属,所在地区,\n",
    "                                                                        学校网址,特殊招生,学校排名,\n",
    "                                                                       科学研究,星级,总分,人才培养,\n",
    "                                                                        综合声誉,办学层次))\n",
    "        driver.back()\n",
    "        print(i)\n",
    "    except:\n",
    "        time.sleep(15)\n",
    "        print(f'url为{i}的数据爬取出错')\n",
    "        driver.back()\n",
    "        continue\n",
    "f.close()\n",
    "print('已完成')"
   ]
  },
  {
   "cell_type": "code",
   "execution_count": null,
   "metadata": {},
   "outputs": [],
   "source": []
  }
 ],
 "metadata": {
  "kernelspec": {
   "display_name": "python3.8",
   "language": "python",
   "name": "py3.8"
  },
  "language_info": {
   "codemirror_mode": {
    "name": "ipython",
    "version": 3
   },
   "file_extension": ".py",
   "mimetype": "text/x-python",
   "name": "python",
   "nbconvert_exporter": "python",
   "pygments_lexer": "ipython3",
   "version": "3.8.16"
  }
 },
 "nbformat": 4,
 "nbformat_minor": 2
}
